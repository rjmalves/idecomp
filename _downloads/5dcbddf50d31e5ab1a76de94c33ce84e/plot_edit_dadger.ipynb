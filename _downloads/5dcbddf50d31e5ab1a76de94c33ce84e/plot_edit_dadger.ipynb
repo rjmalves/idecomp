{
  "cells": [
    {
      "cell_type": "markdown",
      "metadata": {},
      "source": [
        "\n# Edi\u00e7\u00e3o do dadger.rv0\n"
      ]
    },
    {
      "cell_type": "markdown",
      "metadata": {},
      "source": [
        "O primeiro passo para realizar o processamento do arquivo, assim como os\ndemais arquivos de sa\u00edda, \u00e9 a leitura.\n\n"
      ]
    },
    {
      "cell_type": "code",
      "execution_count": null,
      "metadata": {
        "collapsed": false
      },
      "outputs": [],
      "source": [
        "from idecomp.decomp import Dadger\n\narq = Dadger.read(\"./decomp/dadger.rv0\")"
      ]
    },
    {
      "cell_type": "markdown",
      "metadata": {},
      "source": [
        "Atualmente existe suporte para cria\u00e7\u00e3o e edi\u00e7\u00e3o de todos os registros\nutilizados oficialmente nos decks de DECOMP. Por exemplo, pode ser desejado\nalterar os valores de alguns registros ou substituir todo um bloco de\nregistros existentes.\n\nIsto pode ser feito, por exemplo, para o bloco de gera\u00e7\u00e3o\ndas usinas n\u00e3o simuladas. \u00c9 poss\u00edvel visualizar os registros existentes no formato\nde um `DataFrame`, por\u00e9m isto \u00e9 somente para leitura na vers\u00e3o atual do `idecomp`.\n\n"
      ]
    },
    {
      "cell_type": "code",
      "execution_count": null,
      "metadata": {
        "collapsed": false
      },
      "outputs": [],
      "source": [
        "df_pq = arq.pq(df=True)\nprint(df_pq)"
      ]
    },
    {
      "cell_type": "markdown",
      "metadata": {},
      "source": [
        "Para realizar a edi\u00e7\u00e3o ou cria\u00e7\u00e3o de novos registros \u00e9 necess\u00e1rio acessar os\nobjetos que modelam cada registro, e isto \u00e9 feito ao n\u00e3o for\u00e7ar o argumento opcional\n`df=True`. Assim como para outros registros, \u00e9 poss\u00edvel filtrar arbitrariamente pelos\nregistros que s\u00e3o desejados passando as propriedades destes como argumentos opcionais\n\n"
      ]
    },
    {
      "cell_type": "code",
      "execution_count": null,
      "metadata": {
        "collapsed": false
      },
      "outputs": [],
      "source": [
        "print(arq.pq(codigo_submercado=1))"
      ]
    },
    {
      "cell_type": "markdown",
      "metadata": {},
      "source": [
        "Para realizar a edi\u00e7\u00e3o dos valores dos registros \u00e9 poss\u00edvel acessar os objetos realizando\nos filtros adequados e alterar os valores das suas propriedades. Por exemplo, como s\u00f3\nexiste um registro `PQ` por submercado e est\u00e1gio, os valores das suas gera\u00e7\u00f5es podem ser\nmodificados diretamente:\n\n"
      ]
    },
    {
      "cell_type": "code",
      "execution_count": null,
      "metadata": {
        "collapsed": false
      },
      "outputs": [],
      "source": [
        "reg_pq = arq.pq(codigo_submercado=1, estagio=1)\nreg_pq.geracao = [10.0, 10.0, 10.0]\nprint(arq.pq(codigo_submercado=1, estagio=1).geracao)"
      ]
    },
    {
      "cell_type": "markdown",
      "metadata": {},
      "source": [
        "Caso seja desejado refazer completamente o bloco dos registros PQ, tamb\u00e9m \u00e9 permitido\ndeletar todos os registros que formam o bloco e criar um novo conjunto de registros do zero.\nEsta tamb\u00e9m \u00e9 a abordagem que seria utilizada ao se construir um arquivo `dadger.rvX` a partir\nde valores de bancos de dados, por exemplo. Para isto, \u00e9 necess\u00e1rio tamb\u00e9m importar a classe\ndo registro a ser criado, no caso, o PQ:\n\n"
      ]
    },
    {
      "cell_type": "code",
      "execution_count": null,
      "metadata": {
        "collapsed": false
      },
      "outputs": [],
      "source": [
        "from idecomp.decomp.dadger import PQ\n\nregistros_atuais = arq.pq()\n# \u00c9 interessante guardar uma refer\u00eancia para o registro anterior\n# ao bloco PQ, para que os novos registros sejam adicionados na mesma posi\u00e7\u00e3o.\nregistro_base = registros_atuais[0].previous\nfor r in registros_atuais:\n    arq.data.remove(r)"
      ]
    },
    {
      "cell_type": "markdown",
      "metadata": {},
      "source": [
        "Supondo que foram aquisitados valores de um banco de dados, ou feito algum processamento\ne foi obtido um `DataFrame` com o conte\u00fado desejado para se criar o novo bloco PQ. Desta forma,\n\u00e9 poss\u00edvel criar os registros iterativamente:\n\n"
      ]
    },
    {
      "cell_type": "code",
      "execution_count": null,
      "metadata": {
        "collapsed": false
      },
      "outputs": [],
      "source": [
        "import pandas as pd\n\ndf = pd.DataFrame(\n    data={\n        \"estagio\": [1, 6, 1, 6, 1, 6, 1, 6],\n        \"nome\": [\n            \"SUDESTE\",\n            \"SUDESTE\",\n            \"SUL\",\n            \"SUL\",\n            \"NORDESTE\",\n            \"NORDESTE\",\n            \"NORTE\",\n            \"NORTE\",\n        ],\n        \"submercado\": [1, 1, 2, 2, 3, 3, 4, 4],\n        \"geracao_pat1\": [10.0, 10.0, 20.0, 20.0, 30.0, 30.0, 40.0, 40.0],\n        \"geracao_pat2\": [11.0, 11.0, 21.0, 21.0, 31.0, 31.0, 41.0, 41.0],\n        \"geracao_pat3\": [12.0, 12.0, 22.0, 22.0, 32.0, 32.0, 42.0, 42.0],\n    }\n)\n\nfor _, linha in df.iterrows():\n    r = PQ()\n    r.estagio = linha[\"estagio\"]\n    r.nome = linha[\"nome\"]\n    r.codigo_submercado = linha[\"submercado\"]\n    r.geracao = linha[\n        [\"geracao_pat1\", \"geracao_pat2\", \"geracao_pat3\"]\n    ].tolist()\n    arq.data.add_after(registro_base, r)\n    registro_base = r\n\nprint(arq.pq(df=True))"
      ]
    },
    {
      "cell_type": "markdown",
      "metadata": {},
      "source": [
        "Para exportar o arquivo modificado, basta utilizar o m\u00e9todo `write` a partir do objeto que foi\nalterado. Todavia, n\u00e3o \u00e9 obrigat\u00f3rio fornecer um caminho para um arquivo no disco. A exporta\u00e7\u00e3o\ntamb\u00e9m pode ser feita para um buffer em mem\u00f3ria, se o objetivo\nfor enviar o conte\u00fado do arquivo atrav\u00e9s de uma requisi\u00e7\u00e3o HTTP, por exemplo, ou armazenar em um\nbanco de dados para documentos:\n\n"
      ]
    },
    {
      "cell_type": "code",
      "execution_count": null,
      "metadata": {
        "collapsed": false
      },
      "outputs": [],
      "source": [
        "from io import StringIO\n\nconteudo_dadger = StringIO()\narq.write(conteudo_dadger)\nprint(conteudo_dadger.getvalue())"
      ]
    }
  ],
  "metadata": {
    "kernelspec": {
      "display_name": "Python 3",
      "language": "python",
      "name": "python3"
    },
    "language_info": {
      "codemirror_mode": {
        "name": "ipython",
        "version": 3
      },
      "file_extension": ".py",
      "mimetype": "text/x-python",
      "name": "python",
      "nbconvert_exporter": "python",
      "pygments_lexer": "ipython3",
      "version": "3.13.2"
    }
  },
  "nbformat": 4,
  "nbformat_minor": 0
}