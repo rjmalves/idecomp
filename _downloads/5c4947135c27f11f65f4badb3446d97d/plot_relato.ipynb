{
  "cells": [
    {
      "cell_type": "markdown",
      "metadata": {},
      "source": [
        "\n# Extra\u00e7\u00e3o de informa\u00e7\u00f5es do relato.rv0\n"
      ]
    },
    {
      "cell_type": "markdown",
      "metadata": {},
      "source": [
        "O primeiro passo para realizar o processamento do arquivo, assim como os\ndemais arquivos de sa\u00edda, \u00e9 a leitura.\n\n"
      ]
    },
    {
      "cell_type": "code",
      "execution_count": null,
      "metadata": {
        "collapsed": false
      },
      "outputs": [],
      "source": [
        "from idecomp.decomp import Relato\n\narq = Relato.read(\"./decomp/relato.rv0\")"
      ]
    },
    {
      "cell_type": "markdown",
      "metadata": {},
      "source": [
        "Existem diversas propriedades, uma para cada tipo de dados do Relato, e que est\u00e3o dispon\u00edveis\nem datalhes na se\u00e7\u00e3o de Refer\u00eancia. Uma destas \u00e9 o balanco da opera\u00e7\u00e3o energ\u00e9tica. Assim como\na maioria das propriedades que s\u00e3o tabulares, esta \u00e9 processada na forma de um dataframe para o usu\u00e1rio.\n\n"
      ]
    },
    {
      "cell_type": "code",
      "execution_count": null,
      "metadata": {
        "collapsed": false
      },
      "outputs": [],
      "source": [
        "df = arq.balanco_energetico\nprint(df.columns)"
      ]
    },
    {
      "cell_type": "markdown",
      "metadata": {},
      "source": [
        "A partir deste dataframe \u00e9 poss\u00edvel realizar an\u00e1lises e produzir visualiza\u00e7\u00f5es. Por exemplo,\nutilizando o m\u00f3dulo plotly. Deste ponto em diante, n\u00e3o \u00e9 mais necess\u00e1rio o conhecimento\nespec\u00edfico do arquivo ou da idecomp.\n\n"
      ]
    },
    {
      "cell_type": "code",
      "execution_count": null,
      "metadata": {
        "collapsed": false
      },
      "outputs": [],
      "source": [
        "import plotly.express as px\n\n# sphinx_gallery_thumbnail_number = 1\nfig = px.line(\n    df,\n    x=\"estagio\",\n    y=\"energia_armazenada_final_percentual\",\n    color=\"nome_submercado\",\n)\nfig"
      ]
    }
  ],
  "metadata": {
    "kernelspec": {
      "display_name": "Python 3",
      "language": "python",
      "name": "python3"
    },
    "language_info": {
      "codemirror_mode": {
        "name": "ipython",
        "version": 3
      },
      "file_extension": ".py",
      "mimetype": "text/x-python",
      "name": "python",
      "nbconvert_exporter": "python",
      "pygments_lexer": "ipython3",
      "version": "3.13.2"
    }
  },
  "nbformat": 4,
  "nbformat_minor": 0
}