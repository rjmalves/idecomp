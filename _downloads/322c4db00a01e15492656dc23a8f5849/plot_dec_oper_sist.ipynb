{
  "cells": [
    {
      "cell_type": "markdown",
      "metadata": {},
      "source": [
        "\n# Processamento de dados do dec_oper_sist.csv\n"
      ]
    },
    {
      "cell_type": "markdown",
      "metadata": {},
      "source": [
        "O primeiro passo para realizar o processamento do arquivo, assim como os\ndemais arquivos .csv, \u00e9 a leitura. Tendo lido o arquivo, \u00e9 poss\u00edvel recuperar\na vers\u00e3o em que o modelo foi executado.\n\n"
      ]
    },
    {
      "cell_type": "code",
      "execution_count": null,
      "metadata": {
        "collapsed": false
      },
      "outputs": [],
      "source": [
        "from idecomp.decomp import DecOperSist\n\narq = DecOperSist.read(\"./decomp/dec_oper_sist.csv\")\nprint(arq.versao)"
      ]
    },
    {
      "cell_type": "markdown",
      "metadata": {},
      "source": [
        "A tabela de informa\u00e7\u00f5es \u00e9 fornecida como um dataframe, onde os nomes das colunas geralmente\nremetem aos nomes originais das colunas do arquivo .csv, por\u00e9m em camelCase.\n\n"
      ]
    },
    {
      "cell_type": "code",
      "execution_count": null,
      "metadata": {
        "collapsed": false
      },
      "outputs": [],
      "source": [
        "df = arq.tabela\nprint(df.columns)"
      ]
    },
    {
      "cell_type": "markdown",
      "metadata": {},
      "source": [
        "A partir deste dataframe \u00e9 poss\u00edvel realizar an\u00e1lises e produzir visualiza\u00e7\u00f5es. Por exemplo,\nutilizando o m\u00f3dulo plotly. Deste ponto em diante, n\u00e3o \u00e9 mais necess\u00e1rio o conhecimento\nespec\u00edfico do arquivo ou da idecomp.\n\n"
      ]
    },
    {
      "cell_type": "code",
      "execution_count": null,
      "metadata": {
        "collapsed": false
      },
      "outputs": [],
      "source": [
        "import plotly.express as px\n\nestagio_mensal = df[\"estagio\"].max()\n# sphinx_gallery_thumbnail_number = 1\nfig = px.box(\n    df.loc[df[\"estagio\"] == estagio_mensal],\n    x=\"nome_submercado\",\n    y=\"geracao_termica_MW\",\n)\nfig"
      ]
    }
  ],
  "metadata": {
    "kernelspec": {
      "display_name": "Python 3",
      "language": "python",
      "name": "python3"
    },
    "language_info": {
      "codemirror_mode": {
        "name": "ipython",
        "version": 3
      },
      "file_extension": ".py",
      "mimetype": "text/x-python",
      "name": "python",
      "nbconvert_exporter": "python",
      "pygments_lexer": "ipython3",
      "version": "3.13.2"
    }
  },
  "nbformat": 4,
  "nbformat_minor": 0
}