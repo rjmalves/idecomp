{
  "cells": [
    {
      "cell_type": "markdown",
      "metadata": {},
      "source": [
        "\n# Visualiza\u00e7\u00e3o de dados no dadger.rv0\n"
      ]
    },
    {
      "cell_type": "markdown",
      "metadata": {},
      "source": [
        "O primeiro passo para realizar o processamento do arquivo, assim como os\ndemais arquivos de sa\u00edda, \u00e9 a leitura.\n\n"
      ]
    },
    {
      "cell_type": "code",
      "execution_count": null,
      "metadata": {
        "collapsed": false
      },
      "outputs": [],
      "source": [
        "from idecomp.decomp import Dadger\n\narq = Dadger.read(\"./decomp/dadger.rv0\")"
      ]
    },
    {
      "cell_type": "markdown",
      "metadata": {},
      "source": [
        "O dadger, sendo um arquivo que se organiza por meio da declara\u00e7\u00e3o de registros, n\u00e3o\npossui, atualmente, uma interface que seja tabular. Desta forma, os m\u00e9todos existentes\nretornam nenhum, um ou uma lista de objetos do registro espec\u00edfico solicitado.\n\n"
      ]
    },
    {
      "cell_type": "code",
      "execution_count": null,
      "metadata": {
        "collapsed": false
      },
      "outputs": [],
      "source": [
        "termicas_semana1 = arq.ct(estagio=1)\nprint(len(termicas_semana1))"
      ]
    },
    {
      "cell_type": "markdown",
      "metadata": {},
      "source": [
        "Mesmo sem uma interface expl\u00edcita para dados tabulares, os registros foram constru\u00eddos\ncom o uso de propriedades que devem facilitar o p\u00f3s-processamento pelo usu\u00e1rio. Por exemplo,\npara gerar um gr\u00e1fico comparativo de GT em rela\u00e7\u00e3o ao CVU:\n\n"
      ]
    },
    {
      "cell_type": "code",
      "execution_count": null,
      "metadata": {
        "collapsed": false
      },
      "outputs": [],
      "source": [
        "import plotly.express as px\nimport pandas as pd\n\ngtmin_pat1 = [t.inflexibilidade[0] for t in termicas_semana1]\ngtmax_pat1 = [t.disponibilidade[0] for t in termicas_semana1]\ncvus_pat1 = [t.cvu[0] for t in termicas_semana1]\ndf = pd.DataFrame(data={\"cvu\": cvus_pat1, \"gt\": gtmax_pat1})\ndf.sort_values(\"cvu\", inplace=True)\ndf[\"gt\"] = df[\"gt\"].cumsum()\ndf[\"gt\"] += sum(gtmin_pat1)\n\n# sphinx_gallery_thumbnail_number = 1\nfig = px.line(\n    df,\n    x=\"gt\",\n    y=\"cvu\",\n    line_shape=\"hv\",\n)\nfig"
      ]
    }
  ],
  "metadata": {
    "kernelspec": {
      "display_name": "Python 3",
      "language": "python",
      "name": "python3"
    },
    "language_info": {
      "codemirror_mode": {
        "name": "ipython",
        "version": 3
      },
      "file_extension": ".py",
      "mimetype": "text/x-python",
      "name": "python",
      "nbconvert_exporter": "python",
      "pygments_lexer": "ipython3",
      "version": "3.13.2"
    }
  },
  "nbformat": 4,
  "nbformat_minor": 0
}